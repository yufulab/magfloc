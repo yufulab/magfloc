{
 "cells": [
  {
   "cell_type": "code",
   "execution_count": null,
   "id": "1e94f63a",
   "metadata": {
    "scrolled": true
   },
   "outputs": [],
   "source": [
    "import numpy as np\n",
    "import pandas as pd\n",
    "from lightgbm import LGBMRegressor\n",
    "from sklearn.metrics import r2_score\n",
    "from sklearn.metrics import mean_absolute_error\n",
    "from sklearn.metrics import mean_squared_error\n",
    "from sklearn.model_selection import train_test_split\n",
    "from sklearn.model_selection import cross_val_score\n",
    "from bayes_opt import BayesianOptimization\n",
    "import time"
   ]
  },
  {
   "cell_type": "code",
   "execution_count": null,
   "id": "75ce4207",
   "metadata": {},
   "outputs": [],
   "source": [
    "#load the dataset\n",
    "feat_no = 11\n",
    "data_input = pd.read_excel('../Data/MNPs_dataset.xlsx', sheet_name='MNPs_11')\n",
    "dataset = data_input.iloc[:,0:feat_no+1]\n",
    "X = dataset.iloc[:,0:feat_no]\n",
    "y = dataset.iloc[:,-1]"
   ]
  },
  {
   "cell_type": "code",
   "execution_count": null,
   "id": "8f8ddf74",
   "metadata": {},
   "outputs": [],
   "source": [
    "#Optimize the hyperparameters with bayesian optimization\n",
    "def lgbmr_cv(n_estimators, learning_rate, max_depth):\n",
    "    estimator = LGBMRegressor(\n",
    "        n_estimators = int(n_estimators),\n",
    "        learning_rate = learning_rate,\n",
    "        max_depth = int(max_depth)\n",
    "    )\n",
    "    cval = cross_val_score(estimator, X_train, y_train, scoring='neg_root_mean_squared_error', cv=10)\n",
    "    return cval.mean()\n",
    "\n",
    "rs = np.arange(50)\n",
    "\n",
    "metric = {\n",
    "    'r2_train':[],'rmse_train':[],'mae_train':[],\n",
    "    'r2_test':[],'rmse_test':[],'mae_test':[]\n",
    "}\n",
    "\n",
    "best_params = {\n",
    "    'n_estimators':[],\n",
    "    'learning_rate':[],\n",
    "    'max_depth':[]\n",
    "}\n",
    "\n",
    "start_t = time.time()\n",
    "\n",
    "for i in rs:\n",
    "    X_train, X_test, y_train, y_test = [],[],[],[]\n",
    "    X_train, X_test, y_train, y_test = train_test_split(X, y, test_size=0.20, random_state=i)\n",
    "\n",
    "    lgbmr_bo = BayesianOptimization(\n",
    "        lgbmr_cv,\n",
    "        pbounds={\n",
    "            \"n_estimators\": (100,500),\n",
    "            \"learning_rate\": (0.1,0.3),\n",
    "            \"max_depth\": (3,9)\n",
    "        },\n",
    "        random_state=42,\n",
    "        verbose=0\n",
    "    )\n",
    "    \n",
    "    lgbmr_bo.maximize(n_iter=25)\n",
    "    \n",
    "    params = {\n",
    "        'n_estimators': int(lgbmr_bo.max['params']['n_estimators']),\n",
    "        'learning_rate': round(lgbmr_bo.max['params']['learning_rate'],2),\n",
    "        'max_depth': int(lgbmr_bo.max['params']['max_depth'])\n",
    "    }\n",
    "\n",
    "    model = LGBMRegressor(**params)\n",
    "    model.fit(X_train, y_train)\n",
    "\n",
    "    y_pred_train = model.predict(X_train)\n",
    "    r2_train = r2_score(y_train,y_pred_train)\n",
    "    rmse_train = mean_squared_error(y_train,y_pred_train)**0.5\n",
    "    mae_train = mean_absolute_error(y_train,y_pred_train)\n",
    "    \n",
    "    y_pred_test = model.predict(X_test)\n",
    "    r2_test = r2_score(y_test,y_pred_test)\n",
    "    rmse_test = mean_squared_error(y_test,y_pred_test)**0.5\n",
    "    mae_test = mean_absolute_error(y_test,y_pred_test)\n",
    "\n",
    "    metric['r2_train'].append(r2_train)\n",
    "    metric['rmse_train'].append(rmse_train)\n",
    "    metric['mae_train'].append(mae_train)\n",
    "    metric['r2_test'].append(r2_test)\n",
    "    metric['rmse_test'].append(rmse_test)\n",
    "    metric['mae_test'].append(mae_test)\n",
    "    \n",
    "    best_params['n_estimators'].append(int(lgbmr_bo.max['params']['n_estimators']))\n",
    "    best_params['learning_rate'].append(round(lgbmr_bo.max['params']['learning_rate'],2))\n",
    "    best_params['max_depth'].append(int(lgbmr_bo.max['params']['max_depth']))\n",
    "    \n",
    "end_t = time.time()\n",
    "\n",
    "print('Training time', round(end_t - start_t, 2), 's')"
   ]
  },
  {
   "cell_type": "code",
   "execution_count": null,
   "id": "8063644f",
   "metadata": {},
   "outputs": [],
   "source": [
    "metric_df = pd.DataFrame(metric)\n",
    "best_params_df = pd.DataFrame(best_params)\n",
    "metric_df.to_excel('../Data_saved/lgbm_metrics.xlsx')\n",
    "best_params_df.to_excel('../Data_saved/lgbm_params.xlsx')"
   ]
  },
  {
   "cell_type": "code",
   "execution_count": null,
   "id": "6c600ea0",
   "metadata": {},
   "outputs": [],
   "source": [
    "np.average(metric['r2_test'])"
   ]
  },
  {
   "cell_type": "code",
   "execution_count": null,
   "id": "551b242a",
   "metadata": {},
   "outputs": [],
   "source": [
    "metric_df.describe()"
   ]
  }
 ],
 "metadata": {
  "kernelspec": {
   "display_name": "Python 3 (ipykernel)",
   "language": "python",
   "name": "python3"
  },
  "language_info": {
   "codemirror_mode": {
    "name": "ipython",
    "version": 3
   },
   "file_extension": ".py",
   "mimetype": "text/x-python",
   "name": "python",
   "nbconvert_exporter": "python",
   "pygments_lexer": "ipython3",
   "version": "3.9.13"
  },
  "toc": {
   "base_numbering": 1,
   "nav_menu": {},
   "number_sections": true,
   "sideBar": true,
   "skip_h1_title": false,
   "title_cell": "Table of Contents",
   "title_sidebar": "Contents",
   "toc_cell": false,
   "toc_position": {},
   "toc_section_display": true,
   "toc_window_display": false
  }
 },
 "nbformat": 4,
 "nbformat_minor": 5
}
