{
 "cells": [
  {
   "cell_type": "code",
   "execution_count": null,
   "id": "1e94f63a",
   "metadata": {
    "scrolled": true
   },
   "outputs": [],
   "source": [
    "import numpy as np\n",
    "import pandas as pd\n",
    "from sklearn.metrics import r2_score\n",
    "from sklearn.metrics import mean_absolute_error\n",
    "from sklearn.metrics import mean_squared_error\n",
    "from sklearn.model_selection import train_test_split"
   ]
  },
  {
   "cell_type": "code",
   "execution_count": null,
   "id": "84ffd62e",
   "metadata": {},
   "outputs": [],
   "source": [
    "def Yin_Model(m1, m2, pH):\n",
    "    HE = (73.465 + 53.467*m1 - 7.7315*pH + 121.6289*m2 - 48.918*m1**2 + 1.8088*pH**2 - \n",
    "            88.0723*m2**2 - 9.8753*m1*pH + 75.2511*m1*m2 - 19.6919*pH*m2) / 100\n",
    "    return(HE)\n",
    "\n",
    "def Boli_Model(pH, β):\n",
    "    HE = (58.5099 + 15.5573*pH + 0.2956*pH*β - 2.3956*pH**2 - 0.0281*pH**2*β + 0.124*pH**3) / 100\n",
    "    return(HE)\n",
    "\n",
    "def Ajala_Model(m1, m2):\n",
    "    HE = (89.74 + 12.76*m1 - 7.1*m2 +4.2*m1*m2 - 6.25*m1**2 + 0.39*m2**2) / 100\n",
    "    return(HE)"
   ]
  },
  {
   "cell_type": "code",
   "execution_count": null,
   "id": "010cb6f2",
   "metadata": {},
   "outputs": [],
   "source": [
    "#Load dataset\n",
    "dataset_MNPs = pd.read_excel('./Data/MNPs_dataset.xlsx', sheet_name='MNPs_13')\n",
    "X = dataset_MNPs.iloc[:,0:13].values\n",
    "y = dataset_MNPs.iloc[:,13].values"
   ]
  },
  {
   "cell_type": "code",
   "execution_count": null,
   "id": "2963adf3",
   "metadata": {},
   "outputs": [],
   "source": [
    "#Test the reported models (baselines) on this dataset\n",
    "\n",
    "rs = np.arange(50)\n",
    "metric = {\n",
    "    'r2_Yin':[],\n",
    "    'r2_Boli':[],\n",
    "    'r2_Ajala':[],\n",
    "    'rmse_Yin':[],\n",
    "    'rmse_Boli':[],\n",
    "    'rmse_Ajala':[],\n",
    "    'mae_Yin':[],\n",
    "    'mae_Boli':[],\n",
    "    'mae_Ajala':[]\n",
    "}\n",
    "\n",
    "for i in rs:\n",
    "    \n",
    "    X_test, y_test = np.array([]),np.array([])\n",
    "    \n",
    "    r2_Yin = np.array([])\n",
    "    r2_Boli = np.array([])\n",
    "    r2_Ajala = np.array([])\n",
    "    \n",
    "    rmse_Yin = np.array([])\n",
    "    rmse_Boli = np.array([])\n",
    "    rmse_Ajala = np.array([])\n",
    "    \n",
    "    mae_Yin = np.array([])\n",
    "    mae_Boli = np.array([])\n",
    "    mae_Ajala = np.array([])\n",
    "    \n",
    "    _, X_test, _, y_test = train_test_split(X, y, test_size=0.20, random_state=i)\n",
    "     \n",
    "    HE_Yin = Yin_Model(X_test[:,0]/1000, X_test[:,7]/1000, X_test[:,10])\n",
    "    HE_Boli = Boli_Model(X_test[:,10], X_test[:,12])\n",
    "    HE_Ajala = Ajala_Model(X_test[:,0]/1000, X_test[:,7]/1000)\n",
    "\n",
    "    r2_Yin = r2_score(y_test, HE_Yin)\n",
    "    r2_Boli = r2_score(y_test, HE_Boli)\n",
    "    r2_Ajala = r2_score(y_test, HE_Ajala)\n",
    "    \n",
    "    rmse_Yin = mean_squared_error(y_test, HE_Yin)**0.5\n",
    "    rmse_Boli = mean_squared_error(y_test, HE_Boli)**0.5\n",
    "    rmse_Ajala = mean_squared_error(y_test, HE_Ajala)**0.5\n",
    "    \n",
    "    mae_Yin = mean_absolute_error(y_test, HE_Yin)\n",
    "    mae_Boli = mean_absolute_error(y_test, HE_Boli)\n",
    "    mae_Ajala = mean_absolute_error(y_test, HE_Ajala)\n",
    "    \n",
    "    metric['r2_Yin'].append(r2_Yin)\n",
    "    metric['r2_Boli'].append(r2_Boli)\n",
    "    metric['r2_Ajala'].append(r2_Ajala)\n",
    "    \n",
    "    metric['rmse_Yin'].append(rmse_Yin)\n",
    "    metric['rmse_Boli'].append(rmse_Boli)\n",
    "    metric['rmse_Ajala'].append(rmse_Ajala)\n",
    "    \n",
    "    metric['mae_Yin'].append(mae_Yin)\n",
    "    metric['mae_Boli'].append(mae_Boli)\n",
    "    metric['mae_Ajala'].append(mae_Ajala)"
   ]
  },
  {
   "cell_type": "code",
   "execution_count": null,
   "id": "a17599e6",
   "metadata": {},
   "outputs": [],
   "source": [
    "metric_df = pd.DataFrame(metric)\n",
    "#metric_df.to_excel('./Data_saved/baseline_metrics.xlsx')"
   ]
  },
  {
   "cell_type": "code",
   "execution_count": null,
   "id": "293d8e6a",
   "metadata": {
    "scrolled": true
   },
   "outputs": [],
   "source": [
    "metric_df.describe()"
   ]
  }
 ],
 "metadata": {
  "kernelspec": {
   "display_name": "Python 3 (ipykernel)",
   "language": "python",
   "name": "python3"
  },
  "language_info": {
   "codemirror_mode": {
    "name": "ipython",
    "version": 3
   },
   "file_extension": ".py",
   "mimetype": "text/x-python",
   "name": "python",
   "nbconvert_exporter": "python",
   "pygments_lexer": "ipython3",
   "version": "3.9.13"
  },
  "toc": {
   "base_numbering": 1,
   "nav_menu": {},
   "number_sections": true,
   "sideBar": true,
   "skip_h1_title": false,
   "title_cell": "Table of Contents",
   "title_sidebar": "Contents",
   "toc_cell": false,
   "toc_position": {},
   "toc_section_display": true,
   "toc_window_display": false
  }
 },
 "nbformat": 4,
 "nbformat_minor": 5
}
