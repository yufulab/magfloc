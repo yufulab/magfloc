{
 "cells": [
  {
   "cell_type": "code",
   "execution_count": null,
   "id": "1e94f63a",
   "metadata": {
    "scrolled": true
   },
   "outputs": [],
   "source": [
    "import numpy as np\n",
    "import pandas as pd\n",
    "from sklearn.neighbors import KNeighborsRegressor\n",
    "from sklearn.metrics import r2_score\n",
    "from sklearn.metrics import mean_absolute_error\n",
    "from sklearn.metrics import mean_squared_error\n",
    "from sklearn.model_selection import train_test_split\n",
    "from sklearn.model_selection import GridSearchCV\n",
    "import time"
   ]
  },
  {
   "cell_type": "code",
   "execution_count": null,
   "id": "d950589b",
   "metadata": {},
   "outputs": [],
   "source": [
    "#load the dataset\n",
    "feat_no = 11\n",
    "data_input = pd.read_excel('../Data/MNPs_dataset.xlsx', sheet_name='MNPs_11')\n",
    "dataset = data_input.iloc[:,0:feat_no+1]\n",
    "X = dataset.iloc[:,0:feat_no]\n",
    "y = dataset.iloc[:,-1]"
   ]
  },
  {
   "cell_type": "code",
   "execution_count": null,
   "id": "be164497",
   "metadata": {
    "scrolled": false
   },
   "outputs": [],
   "source": [
    "#Optimize the hyperparameters with grid research\n",
    "rs = np.arange(50)\n",
    "best_params = {\n",
    "        'n_neighbors':[],'metric':[]\n",
    "}\n",
    "metric = {\n",
    "    'r2_train':[],'rmse_train':[],'mae_train':[],\n",
    "    'r2_test':[],'rmse_test':[],'mae_test':[]\n",
    "}\n",
    "params = {\n",
    "    'n_neighbors':np.arange(1,11),\n",
    "    'metric':['euclidean','manhattan','minkowski']\n",
    "}\n",
    "start_t = time.time()\n",
    "for i in rs:\n",
    "    X_train, X_test, y_train, y_test = [],[],[],[]\n",
    "    X_train, X_test, y_train, y_test = train_test_split(X, y, test_size=0.20, random_state=i)\n",
    "    model = KNeighborsRegressor()\n",
    "    model_opt = GridSearchCV(model, scoring='r2', param_grid=params, cv=10)\n",
    "    model_opt.fit(X_train, y_train)\n",
    "    y_pred_train = model_opt.predict(X_train)\n",
    "\n",
    "    r2_train = r2_score(y_train,y_pred_train)\n",
    "    rmse_train = mean_squared_error(y_train,y_pred_train)**0.5\n",
    "    mae_train = mean_absolute_error(y_train,y_pred_train)\n",
    "    \n",
    "    y_pred_test = model_opt.best_estimator_.predict(X_test)\n",
    "\n",
    "    r2_test = r2_score(y_test,y_pred_test)\n",
    "    rmse_test = mean_squared_error(y_test,y_pred_test)**0.5\n",
    "    mae_test = mean_absolute_error(y_test,y_pred_test)\n",
    "    \n",
    "    metric['r2_train'].append(r2_train)\n",
    "    metric['rmse_train'].append(rmse_train)\n",
    "    metric['mae_train'].append(mae_train)\n",
    "    metric['r2_test'].append(r2_test)\n",
    "    metric['rmse_test'].append(rmse_test)\n",
    "    metric['mae_test'].append(mae_test)\n",
    "    \n",
    "    best_params['n_neighbors'].append(model_opt.best_params_['n_neighbors'])\n",
    "    best_params['metric'].append(model_opt.best_params_['metric'])\n",
    "    \n",
    "end_t = time.time()\n",
    "\n",
    "print('Training time', round(end_t - start_t, 2), 's')"
   ]
  },
  {
   "cell_type": "code",
   "execution_count": null,
   "id": "efb3dee9",
   "metadata": {
    "scrolled": true
   },
   "outputs": [],
   "source": [
    "metric_df = pd.DataFrame(metric)\n",
    "best_params_df = pd.DataFrame(best_params)\n",
    "#metric_df.to_excel('../Data_saved/knn_metrics.xlsx')\n",
    "#best_params_df.to_excel('../Data_saved/knn_params.xlsx')"
   ]
  },
  {
   "cell_type": "code",
   "execution_count": null,
   "id": "6c600ea0",
   "metadata": {},
   "outputs": [],
   "source": [
    "np.average(metric['r2_test'])"
   ]
  },
  {
   "cell_type": "code",
   "execution_count": null,
   "id": "10e49e79",
   "metadata": {
    "scrolled": true
   },
   "outputs": [],
   "source": [
    "metric_df.describe()"
   ]
  }
 ],
 "metadata": {
  "kernelspec": {
   "display_name": "Python 3 (ipykernel)",
   "language": "python",
   "name": "python3"
  },
  "language_info": {
   "codemirror_mode": {
    "name": "ipython",
    "version": 3
   },
   "file_extension": ".py",
   "mimetype": "text/x-python",
   "name": "python",
   "nbconvert_exporter": "python",
   "pygments_lexer": "ipython3",
   "version": "3.9.13"
  },
  "toc": {
   "base_numbering": 1,
   "nav_menu": {},
   "number_sections": true,
   "sideBar": true,
   "skip_h1_title": false,
   "title_cell": "Table of Contents",
   "title_sidebar": "Contents",
   "toc_cell": false,
   "toc_position": {},
   "toc_section_display": true,
   "toc_window_display": false
  }
 },
 "nbformat": 4,
 "nbformat_minor": 5
}
